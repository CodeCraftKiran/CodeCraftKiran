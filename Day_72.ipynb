{
  "nbformat": 4,
  "nbformat_minor": 0,
  "metadata": {
    "colab": {
      "provenance": [],
      "authorship_tag": "ABX9TyMnIkx1IN5EcojX1vE4uEdI",
      "include_colab_link": true
    },
    "kernelspec": {
      "name": "python3",
      "display_name": "Python 3"
    },
    "language_info": {
      "name": "python"
    }
  },
  "cells": [
    {
      "cell_type": "markdown",
      "metadata": {
        "id": "view-in-github",
        "colab_type": "text"
      },
      "source": [
        "<a href=\"https://colab.research.google.com/github/CodeCraftKiran/CodeCraftKiran/blob/main/Day_72.ipynb\" target=\"_parent\"><img src=\"https://colab.research.google.com/assets/colab-badge.svg\" alt=\"Open In Colab\"/></a>"
      ]
    },
    {
      "cell_type": "code",
      "execution_count": 51,
      "metadata": {
        "colab": {
          "base_uri": "https://localhost:8080/",
          "height": 145
        },
        "id": "Uk1McN_wY15r",
        "outputId": "4b769025-f17a-4c30-8c39-377f3d8d9211"
      },
      "outputs": [
        {
          "output_type": "error",
          "ename": "SyntaxError",
          "evalue": "invalid syntax (<ipython-input-51-e436a4831ce2>, line 27)",
          "traceback": [
            "\u001b[0;36m  File \u001b[0;32m\"<ipython-input-51-e436a4831ce2>\"\u001b[0;36m, line \u001b[0;32m27\u001b[0m\n\u001b[0;31m    git init\u001b[0m\n\u001b[0m        ^\u001b[0m\n\u001b[0;31mSyntaxError\u001b[0m\u001b[0;31m:\u001b[0m invalid syntax\n"
          ]
        }
      ],
      "source": [
        "import pandas as pd\n",
        "df = pd.read_csv(\"salaries_by_college_major.csv\")\n",
        "# df.head()\n",
        "# df.shape\n",
        "# df.columns\n",
        "# df.isna()\n",
        "# df.tail()\n",
        "df = df.dropna()\n",
        "# clean_df.tail()\n",
        "# df['Starting Median Salary']\n",
        "# df['Starting Median Salary'].max()\n",
        "# df['Starting Median Salary'].idxmax()\n",
        "# df['Undergraduate Major'].loc[43]\n",
        "# df.loc[43]\n",
        "# df.head()\n",
        "# df['Mid-Career Median Salary'].idxmax()\n",
        "# df['Undergraduate Major'][8]\n",
        "# df['Undergraduate Major'].loc[df['Starting Median Salary'].idxmin()]\n",
        "# df['Mid-Career 90th Percentile Salary'] - df['Mid-Career 10th Percentile Salary']\n",
        "# diff_spread = df['Mid-Career 90th Percentile Salary'].subtract(df['Mid-Career 10th Percentile Salary'])\n",
        "# df.insert(1, \"spread\", diff_spread)\n",
        "# df.head()\n",
        "# low_risk = df.sort_values('spread')\n",
        "# low_risk[['Undergraduate Major', 'spread']].head()\n",
        "# highest_5 = df.sort_values('Mid-Career 90th Percentile Salary', ascending=False)\n",
        "# highest_5.head()\n"
      ]
    }
  ]
}